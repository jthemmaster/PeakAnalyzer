{
 "cells": [
  {
   "attachments": {},
   "cell_type": "markdown",
   "metadata": {},
   "source": [
    "# PeakAnalyzer\n",
    "#### by Jan A. Meissner"
   ]
  },
  {
   "attachments": {},
   "cell_type": "markdown",
   "metadata": {},
   "source": [
    "Set paths for your script and the resource folder. The folder should contain all the spectral .txt files (for example: resources/CW_16_TE2A_20231031_Absorbance_12-47-13-326.txt)"
   ]
  },
  {
   "cell_type": "code",
   "execution_count": 8,
   "metadata": {},
   "outputs": [],
   "source": [
    "import pandas as pd\n",
    "from os import path\n",
    "import os\n",
    "#set current directory and directory to resources\n",
    "current_directory = os.getcwd()\n",
    "resource_path = os.path.join(current_directory, 'resources')"
   ]
  },
  {
   "attachments": {},
   "cell_type": "markdown",
   "metadata": {},
   "source": [
    "Load all data in the resource folder to a pandas object"
   ]
  },
  {
   "cell_type": "code",
   "execution_count": 15,
   "metadata": {},
   "outputs": [
    {
     "name": "stdout",
     "output_type": "stream",
     "text": [
      "{'CW_16_TE2A_20231031_Absorbance_12-47-13-326.txt':       wavelength  intensity\n",
      "0        341.293  -0.062994\n",
      "1        341.677   0.015895\n",
      "2        342.062   0.120269\n",
      "3        342.446  -0.063835\n",
      "4        342.830   0.845930\n",
      "...          ...        ...\n",
      "2042    1021.669   0.166159\n",
      "2043    1021.946   0.121155\n",
      "2044    1022.223   0.102370\n",
      "2045    1022.501   0.121902\n",
      "2046    1022.778   0.017362\n",
      "\n",
      "[2047 rows x 2 columns]}\n"
     ]
    }
   ],
   "source": [
    "files = [f for f in os.listdir(resource_path) if path.isfile(path.join(resource_path, f))]\n",
    "dataset = {}\n",
    "for file in files:\n",
    "    file_path = os.path.join(resource_path, file)\n",
    "    data = pd.read_csv(\n",
    "        file_path, \n",
    "        sep='\\t',              # Tab-separated values\n",
    "        decimal=',',          # Comma as decimal separator\n",
    "        skiprows=13           # Skip rows until the actual data starts (adjust the number as needed)\n",
    "    )\n",
    "    #give the columns names wavelenght and intensity\n",
    "    data.columns = [\"wavelength\", \"intensity\"]  \n",
    "    dataset[file] = data\n",
    "\n",
    "print(dataset)\n"
   ]
  },
  {
   "attachments": {},
   "cell_type": "markdown",
   "metadata": {},
   "source": [
    "#### Display graph "
   ]
  },
  {
   "cell_type": "code",
   "execution_count": null,
   "metadata": {},
   "outputs": [],
   "source": []
  }
 ],
 "metadata": {
  "kernelspec": {
   "display_name": "work",
   "language": "python",
   "name": "python3"
  },
  "language_info": {
   "codemirror_mode": {
    "name": "ipython",
    "version": 3
   },
   "file_extension": ".py",
   "mimetype": "text/x-python",
   "name": "python",
   "nbconvert_exporter": "python",
   "pygments_lexer": "ipython3",
   "version": "3.11.5"
  },
  "orig_nbformat": 4,
  "vscode": {
   "interpreter": {
    "hash": "1026ab37aa66ddc060b5648192bda26a8a0ee95f0aa0518405a69ba9839c9824"
   }
  }
 },
 "nbformat": 4,
 "nbformat_minor": 2
}
